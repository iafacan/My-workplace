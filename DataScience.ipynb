{
 "cells": [
  {
   "cell_type": "markdown",
   "id": "51994725",
   "metadata": {},
   "source": [
    "# My Jupyter Notebook "
   ]
  },
  {
   "cell_type": "markdown",
   "id": "7bb7495d",
   "metadata": {},
   "source": [
    "Data Science"
   ]
  },
  {
   "cell_type": "markdown",
   "id": "85c85981",
   "metadata": {},
   "source": [
    "- Python\n",
    "- R\n",
    "- SQL"
   ]
  },
  {
   "cell_type": "markdown",
   "id": "ce042129",
   "metadata": {},
   "source": [
    "- pandas\n",
    "- ggplot\n",
    "- caret\n",
    "- matplotlib"
   ]
  },
  {
   "cell_type": "markdown",
   "id": "3cecb8be",
   "metadata": {},
   "source": [
    "| Development Environment |\n",
    "| ----------------------- |\n",
    "| Jupyter Notebook        |\n",
    "| RStudio                 |\n",
    "| VSCode                  |"
   ]
  },
  {
   "cell_type": "markdown",
   "id": "cc21f37b",
   "metadata": {},
   "source": [
    "we'll explore some basic arithmetic expressions using mathematical operations such as addition, subtraction, multiplication, and division."
   ]
  },
  {
   "cell_type": "code",
   "execution_count": 1,
   "id": "42dab6e1",
   "metadata": {},
   "outputs": [
    {
     "data": {
      "text/plain": [
       "22"
      ]
     },
     "execution_count": 1,
     "metadata": {},
     "output_type": "execute_result"
    }
   ],
   "source": [
    "(5 * 3) + 7"
   ]
  },
  {
   "cell_type": "code",
   "execution_count": 3,
   "id": "56dc488a",
   "metadata": {},
   "outputs": [
    {
     "data": {
      "text/plain": [
       "6.666666666666667"
      ]
     },
     "execution_count": 3,
     "metadata": {},
     "output_type": "execute_result"
    }
   ],
   "source": [
    "# This will convert 400 minutes to hours by diving by 60\n",
    "\n",
    "400 / 60 "
   ]
  },
  {
   "cell_type": "markdown",
   "id": "3fa2371b",
   "metadata": {},
   "source": [
    "## My Objectives\n",
    "\n",
    "- **List popular languages for Data Science**\n",
    "- **Introduce key Data Science tools and their applications**\n",
    "- **Explore basic arithmetic expressions in Python**\n",
    "- **Demonstrate conversion of minutes to hours using Python**\n",
    "- **Familiarize with common Markdown syntax for formatting**"
   ]
  },
  {
   "cell_type": "markdown",
   "id": "89cc1838",
   "metadata": {},
   "source": [
    "## Author:\n",
    "\n",
    "**İbrahim Afacan**"
   ]
  }
 ],
 "metadata": {
  "kernelspec": {
   "display_name": "Python 3 (ipykernel)",
   "language": "python",
   "name": "python3"
  },
  "language_info": {
   "codemirror_mode": {
    "name": "ipython",
    "version": 3
   },
   "file_extension": ".py",
   "mimetype": "text/x-python",
   "name": "python",
   "nbconvert_exporter": "python",
   "pygments_lexer": "ipython3",
   "version": "3.11.5"
  }
 },
 "nbformat": 4,
 "nbformat_minor": 5
}
